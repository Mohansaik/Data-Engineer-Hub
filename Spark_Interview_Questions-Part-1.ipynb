{
 "cells": [
  {
   "cell_type": "markdown",
   "metadata": {
    "application/vnd.databricks.v1+cell": {
     "cellMetadata": {
      "byteLimit": 2048000,
      "rowLimit": 10000
     },
     "inputWidgets": {},
     "nuid": "8d3a80cf-c999-4782-82df-db29b9eca18a",
     "showTitle": true,
     "title": "Question 1"
    }
   },
   "source": [
    "####Question 1 (Filtering Data)\n",
    "##### Given a DataFrame of employee details, filter out the employees who are older than 30 years.\n",
    "\n",
    "**Input data** \n",
    "```\n",
    "-------------+-----+\n",
    "| ID | Name  | Age |\n",
    "+----+-------+-----+\n",
    "| 1  | John  | 28  |\n",
    "| 2  | Alice | 34  |\n",
    "| 3  | Bob   | 32  |\n",
    "| 4  | David | 25  |\n",
    "+----+-------+-----+\n",
    "```\n",
    "**Output data**\n",
    "\n",
    "```\n",
    "+----+-------+-----+\n",
    "| ID | Name  | Age |\n",
    "+----+-------+-----+\n",
    "| 2  | Alice | 34  |\n",
    "| 3  | Bob   | 32  |\n",
    "+----+-------+-----+\n",
    "```"
   ]
  },
  {
   "cell_type": "code",
   "execution_count": 0,
   "metadata": {
    "application/vnd.databricks.v1+cell": {
     "cellMetadata": {
      "byteLimit": 2048000,
      "rowLimit": 10000
     },
     "inputWidgets": {},
     "nuid": "a0d8ec83-345a-4d81-b5e0-a9eb80a7ec65",
     "showTitle": false,
     "title": ""
    }
   },
   "outputs": [
    {
     "output_type": "display_data",
     "data": {
      "text/html": [
       "<style scoped>\n",
       "  .table-result-container {\n",
       "    max-height: 300px;\n",
       "    overflow: auto;\n",
       "  }\n",
       "  table, th, td {\n",
       "    border: 1px solid black;\n",
       "    border-collapse: collapse;\n",
       "  }\n",
       "  th, td {\n",
       "    padding: 5px;\n",
       "  }\n",
       "  th {\n",
       "    text-align: left;\n",
       "  }\n",
       "</style><div class='table-result-container'><table class='table-result'><thead style='background-color: white'><tr><th>age</th><th>id</th><th>name</th></tr></thead><tbody><tr><td>34</td><td>2</td><td>Alice</td></tr><tr><td>32</td><td>3</td><td>Bob</td></tr></tbody></table></div>"
      ]
     },
     "metadata": {
      "application/vnd.databricks.v1+output": {
       "addedWidgets": {},
       "aggData": [],
       "aggError": "",
       "aggOverflow": false,
       "aggSchema": [],
       "aggSeriesLimitReached": false,
       "aggType": "",
       "arguments": {},
       "columnCustomDisplayInfos": {},
       "data": [
        [
         34,
         "2",
         "Alice"
        ],
        [
         32,
         "3",
         "Bob"
        ]
       ],
       "datasetInfos": [],
       "dbfsResultPath": null,
       "isJsonSchema": true,
       "metadata": {},
       "overflow": false,
       "plotOptions": {
        "customPlotOptions": {},
        "displayType": "table",
        "pivotAggregation": null,
        "pivotColumns": null,
        "xColumns": null,
        "yColumns": null
       },
       "removedWidgets": [],
       "schema": [
        {
         "metadata": "{}",
         "name": "age",
         "type": "\"long\""
        },
        {
         "metadata": "{}",
         "name": "id",
         "type": "\"string\""
        },
        {
         "metadata": "{}",
         "name": "name",
         "type": "\"string\""
        }
       ],
       "type": "table"
      }
     },
     "output_type": "display_data"
    }
   ],
   "source": [
    "data = [\n",
    "    {'id': '1', 'name': 'John', 'age': 28},\n",
    "    {'id': '2', 'name': 'Alice', 'age': 34},\n",
    "    {'id': '3', 'name': 'Bob', 'age': 32},\n",
    "    {'id': '4', 'name': 'David', 'age': 25}\n",
    "]\n",
    "\n",
    "df = spark.createDataFrame(data)\n",
    "\n",
    "df = df.filter(\" age >30 \")\n",
    "\n",
    "display(df)"
   ]
  },
  {
   "cell_type": "markdown",
   "metadata": {
    "application/vnd.databricks.v1+cell": {
     "cellMetadata": {
      "byteLimit": 2048000,
      "rowLimit": 10000
     },
     "inputWidgets": {},
     "nuid": "11ae7849-8908-43f7-89d5-508d0b98c984",
     "showTitle": false,
     "title": ""
    }
   },
   "source": [
    "####Question 2 (Grouping and Aggregation)\n",
    "##### Given a DataFrame of sales data, find the total sales for each product.\n",
    "\n",
    "**Input data** \n",
    "```\n",
    "+--------+-------+------+\n",
    "| Product| Region| Sales|\n",
    "+--------+-------+------+\n",
    "| A      | North | 100  |\n",
    "| A      | South | 150  |\n",
    "| B      | North | 200  |\n",
    "| B      | South | 300  |\n",
    "+--------+-------+------+\n",
    "```\n",
    "**Output data**\n",
    "\n",
    "```\n",
    "+--------+-----+\n",
    "| Product| Total_Sales|\n",
    "+--------+-----+\n",
    "| A      | 250 |\n",
    "| B      | 500 |\n",
    "+--------+-----+\n",
    "\n",
    "```"
   ]
  },
  {
   "cell_type": "code",
   "execution_count": 0,
   "metadata": {
    "application/vnd.databricks.v1+cell": {
     "cellMetadata": {
      "byteLimit": 2048000,
      "rowLimit": 10000
     },
     "inputWidgets": {},
     "nuid": "c05014a7-8403-4e65-b843-ce06ec383ee7",
     "showTitle": false,
     "title": ""
    }
   },
   "outputs": [
    {
     "output_type": "display_data",
     "data": {
      "text/html": [
       "<style scoped>\n",
       "  .table-result-container {\n",
       "    max-height: 300px;\n",
       "    overflow: auto;\n",
       "  }\n",
       "  table, th, td {\n",
       "    border: 1px solid black;\n",
       "    border-collapse: collapse;\n",
       "  }\n",
       "  th, td {\n",
       "    padding: 5px;\n",
       "  }\n",
       "  th {\n",
       "    text-align: left;\n",
       "  }\n",
       "</style><div class='table-result-container'><table class='table-result'><thead style='background-color: white'><tr><th>Product</th><th>Total_Sales</th></tr></thead><tbody><tr><td>A</td><td>250</td></tr><tr><td>B</td><td>500</td></tr></tbody></table></div>"
      ]
     },
     "metadata": {
      "application/vnd.databricks.v1+output": {
       "addedWidgets": {},
       "aggData": [],
       "aggError": "",
       "aggOverflow": false,
       "aggSchema": [],
       "aggSeriesLimitReached": false,
       "aggType": "",
       "arguments": {},
       "columnCustomDisplayInfos": {},
       "data": [
        [
         "A",
         250
        ],
        [
         "B",
         500
        ]
       ],
       "datasetInfos": [],
       "dbfsResultPath": null,
       "isJsonSchema": true,
       "metadata": {},
       "overflow": false,
       "plotOptions": {
        "customPlotOptions": {},
        "displayType": "table",
        "pivotAggregation": null,
        "pivotColumns": null,
        "xColumns": null,
        "yColumns": null
       },
       "removedWidgets": [],
       "schema": [
        {
         "metadata": "{}",
         "name": "Product",
         "type": "\"string\""
        },
        {
         "metadata": "{}",
         "name": "Total_Sales",
         "type": "\"long\""
        }
       ],
       "type": "table"
      }
     },
     "output_type": "display_data"
    }
   ],
   "source": [
    "from pyspark.sql.functions import sum \n",
    "data = [\n",
    "    {'Product': 'A', 'Region': 'North', 'Sales': 100},\n",
    "    {'Product': 'A', 'Region': 'South', 'Sales': 150},\n",
    "    {'Product': 'B', 'Region': 'North', 'Sales': 200},\n",
    "    {'Product': 'B', 'Region': 'South', 'Sales': 300}\n",
    "]\n",
    "\n",
    "df = spark.createDataFrame(data)\n",
    "\n",
    "df = df.groupBy(\"Product\").agg(sum('Sales').alias(\"Total_Sales\"))\n",
    "\n",
    "display(df)"
   ]
  },
  {
   "cell_type": "markdown",
   "metadata": {
    "application/vnd.databricks.v1+cell": {
     "cellMetadata": {
      "byteLimit": 2048000,
      "rowLimit": 10000
     },
     "inputWidgets": {},
     "nuid": "1a8ab893-bce9-48ea-91b5-93d98513ef99",
     "showTitle": false,
     "title": ""
    }
   },
   "source": [
    "####Question 3 (Joining DataFrames)\n",
    "##### Given two DataFrames, join them on the 'ID' column.\n",
    "\n",
    "**Input data (dataframe 1)** \n",
    "```\n",
    "+----+-------+\n",
    "| ID | Name  |\n",
    "+----+-------+\n",
    "| 1  | John  |\n",
    "| 2  | Alice |\n",
    "| 3  | Bob   |\n",
    "+----+-------+\n",
    "\n",
    "```\n",
    "\n",
    "**Input data (dataframe 2)** \n",
    "```\n",
    "+----+-----+\n",
    "| ID | Age |\n",
    "+----+-----+\n",
    "| 1  | 28  |\n",
    "| 2  | 34  |\n",
    "| 4  | 25  |\n",
    "+----+-----+\n",
    "\n",
    "```\n",
    "**Output data**\n",
    "\n",
    "```\n",
    "+----+-------+-----+\n",
    "| ID | Name  | Age |\n",
    "+----+-------+-----+\n",
    "| 1  | John  | 28  |\n",
    "| 2  | Alice | 34  |\n",
    "+----+-------+-----+\n",
    "\n",
    "\n",
    "```"
   ]
  },
  {
   "cell_type": "code",
   "execution_count": 0,
   "metadata": {
    "application/vnd.databricks.v1+cell": {
     "cellMetadata": {
      "byteLimit": 2048000,
      "rowLimit": 10000
     },
     "inputWidgets": {},
     "nuid": "a103a4a4-757a-42a2-824d-da0e26043a63",
     "showTitle": false,
     "title": ""
    }
   },
   "outputs": [
    {
     "output_type": "display_data",
     "data": {
      "text/html": [
       "<style scoped>\n",
       "  .table-result-container {\n",
       "    max-height: 300px;\n",
       "    overflow: auto;\n",
       "  }\n",
       "  table, th, td {\n",
       "    border: 1px solid black;\n",
       "    border-collapse: collapse;\n",
       "  }\n",
       "  th, td {\n",
       "    padding: 5px;\n",
       "  }\n",
       "  th {\n",
       "    text-align: left;\n",
       "  }\n",
       "</style><div class='table-result-container'><table class='table-result'><thead style='background-color: white'><tr><th>ID</th><th>Name</th><th>Age</th></tr></thead><tbody><tr><td>1</td><td>John</td><td>28</td></tr><tr><td>2</td><td>Alice</td><td>34</td></tr></tbody></table></div>"
      ]
     },
     "metadata": {
      "application/vnd.databricks.v1+output": {
       "addedWidgets": {},
       "aggData": [],
       "aggError": "",
       "aggOverflow": false,
       "aggSchema": [],
       "aggSeriesLimitReached": false,
       "aggType": "",
       "arguments": {},
       "columnCustomDisplayInfos": {},
       "data": [
        [
         "1",
         "John",
         28
        ],
        [
         "2",
         "Alice",
         34
        ]
       ],
       "datasetInfos": [],
       "dbfsResultPath": null,
       "isJsonSchema": true,
       "metadata": {},
       "overflow": false,
       "plotOptions": {
        "customPlotOptions": {},
        "displayType": "table",
        "pivotAggregation": null,
        "pivotColumns": null,
        "xColumns": null,
        "yColumns": null
       },
       "removedWidgets": [],
       "schema": [
        {
         "metadata": "{}",
         "name": "ID",
         "type": "\"string\""
        },
        {
         "metadata": "{}",
         "name": "Name",
         "type": "\"string\""
        },
        {
         "metadata": "{}",
         "name": "Age",
         "type": "\"long\""
        }
       ],
       "type": "table"
      }
     },
     "output_type": "display_data"
    }
   ],
   "source": [
    "data1 = [\n",
    "    {'ID': '1', 'Name': 'John'},\n",
    "    {'ID': '2', 'Name': 'Alice'},\n",
    "    {'ID': '3', 'Name': 'Bob'}\n",
    "]\n",
    "\n",
    "data2 = [\n",
    "    {'ID': '1', 'Age': 28},\n",
    "    {'ID': '2', 'Age': 34},\n",
    "    {'ID': '4', 'Age': 25}\n",
    "]\n",
    "\n",
    "df1 = spark.createDataFrame(data1)\n",
    "df2 = spark.createDataFrame(data2)\n",
    "\n",
    "df3 = df1.join(df2,on = 'ID')\n",
    "\n",
    "display(df3)"
   ]
  },
  {
   "cell_type": "markdown",
   "metadata": {
    "application/vnd.databricks.v1+cell": {
     "cellMetadata": {
      "byteLimit": 2048000,
      "rowLimit": 10000
     },
     "inputWidgets": {},
     "nuid": "aed704ec-d540-410d-91db-369476e406e8",
     "showTitle": false,
     "title": ""
    }
   },
   "source": [
    "####Question 4 (Handling Missing Data)\n",
    "##### Given a DataFrame, fill missing values in the 'Age' column with the mean age.\n",
    "\n",
    "**Input data** \n",
    "```\n",
    "+----+-------+-----+\n",
    "| ID | Name  | Age |\n",
    "+----+-------+-----+\n",
    "| 1  | John  | 28  |\n",
    "| 2  | Alice | null|\n",
    "| 3  | Bob   | 32  |\n",
    "| 4  | David | null|\n",
    "+----+-------+-----+\n",
    "```\n",
    "**Output data**\n",
    "\n",
    "```\n",
    "+----+-------+-----+\n",
    "| ID | Name  | Age |\n",
    "+----+-------+-----+\n",
    "| 1  | John  | 28  |\n",
    "| 2  | Alice | 30  |\n",
    "| 3  | Bob   | 32  |\n",
    "| 4  | David | 30  |\n",
    "+----+-------+-----+\n",
    "\n",
    "```"
   ]
  },
  {
   "cell_type": "code",
   "execution_count": 0,
   "metadata": {
    "application/vnd.databricks.v1+cell": {
     "cellMetadata": {
      "byteLimit": 2048000,
      "rowLimit": 10000
     },
     "inputWidgets": {},
     "nuid": "d560b760-e58f-4380-b437-c3ee03025baa",
     "showTitle": false,
     "title": ""
    }
   },
   "outputs": [
    {
     "output_type": "display_data",
     "data": {
      "text/html": [
       "<style scoped>\n",
       "  .table-result-container {\n",
       "    max-height: 300px;\n",
       "    overflow: auto;\n",
       "  }\n",
       "  table, th, td {\n",
       "    border: 1px solid black;\n",
       "    border-collapse: collapse;\n",
       "  }\n",
       "  th, td {\n",
       "    padding: 5px;\n",
       "  }\n",
       "  th {\n",
       "    text-align: left;\n",
       "  }\n",
       "</style><div class='table-result-container'><table class='table-result'><thead style='background-color: white'><tr><th>Age</th><th>ID</th><th>Name</th></tr></thead><tbody><tr><td>28</td><td>1</td><td>John</td></tr><tr><td>30</td><td>2</td><td>Alice</td></tr><tr><td>32</td><td>3</td><td>Bob</td></tr><tr><td>30</td><td>4</td><td>David</td></tr></tbody></table></div>"
      ]
     },
     "metadata": {
      "application/vnd.databricks.v1+output": {
       "addedWidgets": {},
       "aggData": [],
       "aggError": "",
       "aggOverflow": false,
       "aggSchema": [],
       "aggSeriesLimitReached": false,
       "aggType": "",
       "arguments": {},
       "columnCustomDisplayInfos": {},
       "data": [
        [
         28,
         "1",
         "John"
        ],
        [
         30,
         "2",
         "Alice"
        ],
        [
         32,
         "3",
         "Bob"
        ],
        [
         30,
         "4",
         "David"
        ]
       ],
       "datasetInfos": [],
       "dbfsResultPath": null,
       "isJsonSchema": true,
       "metadata": {},
       "overflow": false,
       "plotOptions": {
        "customPlotOptions": {},
        "displayType": "table",
        "pivotAggregation": null,
        "pivotColumns": null,
        "xColumns": null,
        "yColumns": null
       },
       "removedWidgets": [],
       "schema": [
        {
         "metadata": "{}",
         "name": "Age",
         "type": "\"long\""
        },
        {
         "metadata": "{}",
         "name": "ID",
         "type": "\"string\""
        },
        {
         "metadata": "{}",
         "name": "Name",
         "type": "\"string\""
        }
       ],
       "type": "table"
      }
     },
     "output_type": "display_data"
    }
   ],
   "source": [
    "from pyspark.sql.functions import mean\n",
    "data = [\n",
    "    {'ID': '1', 'Name': 'John', 'Age': 28},\n",
    "    {'ID': '2', 'Name': 'Alice', 'Age': None},\n",
    "    {'ID': '3', 'Name': 'Bob', 'Age': 32},\n",
    "    {'ID': '4', 'Name': 'David', 'Age': None}\n",
    "]\n",
    "\n",
    "df = spark.createDataFrame(data)\n",
    "\n",
    "avg_age = df.select(mean('Age')).collect()[0][0]\n",
    "\n",
    "df = df.fillna({'Age':avg_age})\n",
    "\n",
    "display(df)\n"
   ]
  },
  {
   "cell_type": "markdown",
   "metadata": {
    "application/vnd.databricks.v1+cell": {
     "cellMetadata": {
      "byteLimit": 2048000,
      "rowLimit": 10000
     },
     "inputWidgets": {},
     "nuid": "e14b5171-7292-4302-930a-841bf9d00a4d",
     "showTitle": false,
     "title": ""
    }
   },
   "source": [
    "####Question 5 (Sorting Data)\n",
    "##### Given a DataFrame of product sales, sort the data by 'Sales' in descending order.\n",
    "\n",
    "**Input data** \n",
    "```\n",
    "+--------+------+\n",
    "| Product| Sales|\n",
    "+--------+------+\n",
    "| A      | 150  |\n",
    "| B      | 200  |\n",
    "| C      | 100  |\n",
    "+--------+------+\n",
    "\n",
    "```\n",
    "**Output data**\n",
    "\n",
    "```\n",
    "+--------+------+\n",
    "| Product| Sales|\n",
    "+--------+------+\n",
    "| B      | 200  |\n",
    "| A      | 150  |\n",
    "| C      | 100  |\n",
    "+--------+------+\n",
    "\n",
    "```"
   ]
  },
  {
   "cell_type": "code",
   "execution_count": 0,
   "metadata": {
    "application/vnd.databricks.v1+cell": {
     "cellMetadata": {
      "byteLimit": 2048000,
      "rowLimit": 10000
     },
     "inputWidgets": {},
     "nuid": "b528adac-dafe-4a5c-b69a-d60696eff27d",
     "showTitle": false,
     "title": ""
    }
   },
   "outputs": [
    {
     "output_type": "display_data",
     "data": {
      "text/html": [
       "<style scoped>\n",
       "  .table-result-container {\n",
       "    max-height: 300px;\n",
       "    overflow: auto;\n",
       "  }\n",
       "  table, th, td {\n",
       "    border: 1px solid black;\n",
       "    border-collapse: collapse;\n",
       "  }\n",
       "  th, td {\n",
       "    padding: 5px;\n",
       "  }\n",
       "  th {\n",
       "    text-align: left;\n",
       "  }\n",
       "</style><div class='table-result-container'><table class='table-result'><thead style='background-color: white'><tr><th>Product</th><th>Sales</th></tr></thead><tbody><tr><td>B</td><td>200</td></tr><tr><td>A</td><td>150</td></tr><tr><td>C</td><td>100</td></tr></tbody></table></div>"
      ]
     },
     "metadata": {
      "application/vnd.databricks.v1+output": {
       "addedWidgets": {},
       "aggData": [],
       "aggError": "",
       "aggOverflow": false,
       "aggSchema": [],
       "aggSeriesLimitReached": false,
       "aggType": "",
       "arguments": {},
       "columnCustomDisplayInfos": {},
       "data": [
        [
         "B",
         200
        ],
        [
         "A",
         150
        ],
        [
         "C",
         100
        ]
       ],
       "datasetInfos": [],
       "dbfsResultPath": null,
       "isJsonSchema": true,
       "metadata": {},
       "overflow": false,
       "plotOptions": {
        "customPlotOptions": {},
        "displayType": "table",
        "pivotAggregation": null,
        "pivotColumns": null,
        "xColumns": null,
        "yColumns": null
       },
       "removedWidgets": [],
       "schema": [
        {
         "metadata": "{}",
         "name": "Product",
         "type": "\"string\""
        },
        {
         "metadata": "{}",
         "name": "Sales",
         "type": "\"long\""
        }
       ],
       "type": "table"
      }
     },
     "output_type": "display_data"
    }
   ],
   "source": [
    "data = [\n",
    "    {'Product': 'A', 'Sales': 150},\n",
    "    {'Product': 'B', 'Sales': 200},\n",
    "    {'Product': 'C', 'Sales': 100}\n",
    "]\n",
    "\n",
    "df = spark.createDataFrame(data)\n",
    "\n",
    "display(df.orderBy('Sales',ascending=False))\n"
   ]
  },
  {
   "cell_type": "markdown",
   "metadata": {
    "application/vnd.databricks.v1+cell": {
     "cellMetadata": {
      "byteLimit": 2048000,
      "rowLimit": 10000
     },
     "inputWidgets": {},
     "nuid": "53893bf0-7167-4d7b-9343-2cd747c4a74f",
     "showTitle": false,
     "title": ""
    }
   },
   "source": [
    "####Question 6 (Pivoting Data)\n",
    "##### Given a DataFrame, pivot the data to show sales per region for each product.\n",
    "\n",
    "**Input data** \n",
    "```\n",
    "+--------+-------+------+\n",
    "| Product| Region| Sales|\n",
    "+--------+-------+------+\n",
    "| A      | North | 100  |\n",
    "| A      | South | 150  |\n",
    "| B      | North | 200  |\n",
    "| B      | South | 300  |\n",
    "+--------+-------+------+\n",
    "\n",
    "```\n",
    "**Output data**\n",
    "\n",
    "```\n",
    "+--------+------+------+\n",
    "| Product| North| South|\n",
    "+--------+------+------+\n",
    "| A      | 100  | 150  |\n",
    "| B      | 200  | 300  |\n",
    "+--------+------+------+\n",
    "\n",
    "```"
   ]
  },
  {
   "cell_type": "code",
   "execution_count": 0,
   "metadata": {
    "application/vnd.databricks.v1+cell": {
     "cellMetadata": {
      "byteLimit": 2048000,
      "rowLimit": 10000
     },
     "inputWidgets": {},
     "nuid": "f52a2fb7-f613-4e75-817c-32e9f569fc61",
     "showTitle": false,
     "title": ""
    }
   },
   "outputs": [
    {
     "output_type": "display_data",
     "data": {
      "text/html": [
       "<style scoped>\n",
       "  .table-result-container {\n",
       "    max-height: 300px;\n",
       "    overflow: auto;\n",
       "  }\n",
       "  table, th, td {\n",
       "    border: 1px solid black;\n",
       "    border-collapse: collapse;\n",
       "  }\n",
       "  th, td {\n",
       "    padding: 5px;\n",
       "  }\n",
       "  th {\n",
       "    text-align: left;\n",
       "  }\n",
       "</style><div class='table-result-container'><table class='table-result'><thead style='background-color: white'><tr><th>Product</th><th>North</th><th>South</th></tr></thead><tbody><tr><td>B</td><td>200</td><td>300</td></tr><tr><td>A</td><td>100</td><td>150</td></tr></tbody></table></div>"
      ]
     },
     "metadata": {
      "application/vnd.databricks.v1+output": {
       "addedWidgets": {},
       "aggData": [],
       "aggError": "",
       "aggOverflow": false,
       "aggSchema": [],
       "aggSeriesLimitReached": false,
       "aggType": "",
       "arguments": {},
       "columnCustomDisplayInfos": {},
       "data": [
        [
         "B",
         200,
         300
        ],
        [
         "A",
         100,
         150
        ]
       ],
       "datasetInfos": [],
       "dbfsResultPath": null,
       "isJsonSchema": true,
       "metadata": {},
       "overflow": false,
       "plotOptions": {
        "customPlotOptions": {},
        "displayType": "table",
        "pivotAggregation": null,
        "pivotColumns": null,
        "xColumns": null,
        "yColumns": null
       },
       "removedWidgets": [],
       "schema": [
        {
         "metadata": "{}",
         "name": "Product",
         "type": "\"string\""
        },
        {
         "metadata": "{}",
         "name": "North",
         "type": "\"long\""
        },
        {
         "metadata": "{}",
         "name": "South",
         "type": "\"long\""
        }
       ],
       "type": "table"
      }
     },
     "output_type": "display_data"
    }
   ],
   "source": [
    "data = [\n",
    "    {'Product': 'A', 'Region': 'North', 'Sales': 100},\n",
    "    {'Product': 'A', 'Region': 'South', 'Sales': 150},\n",
    "    {'Product': 'B', 'Region': 'North', 'Sales': 200},\n",
    "    {'Product': 'B', 'Region': 'South', 'Sales': 300}\n",
    "]\n",
    "\n",
    "df = spark.createDataFrame(data)\n",
    "\n",
    "df = df.groupBy('Product').pivot('Region').sum('Sales')\n",
    "\n",
    "display(df)\n",
    "\n"
   ]
  },
  {
   "cell_type": "markdown",
   "metadata": {
    "application/vnd.databricks.v1+cell": {
     "cellMetadata": {
      "byteLimit": 2048000,
      "rowLimit": 10000
     },
     "inputWidgets": {},
     "nuid": "69cd34c7-6326-4eb8-8e7c-e4fb4fd69bca",
     "showTitle": false,
     "title": ""
    }
   },
   "source": [
    "####Question 7 (Window Functions)\n",
    "##### Given a DataFrame of employee salaries, add a column that shows the rank of each employee within their department based on salary.\n",
    "\n",
    "**Input data** \n",
    "```\n",
    "+----+-------+---------+------+\n",
    "| ID | Name  | Dept    |Salary|\n",
    "+----+-------+---------+------+\n",
    "| 1  | John  | IT      | 5000 |\n",
    "| 2  | Alice | HR      | 6000 |\n",
    "| 3  | Bob   | IT      | 7000 |\n",
    "| 4  | David | HR      | 5500 |\n",
    "+----+-------+---------+------+\n",
    "\n",
    "\n",
    "```\n",
    "**Output data**\n",
    "\n",
    "```\n",
    "+----+-------+---------+------+----+\n",
    "| ID | Name  | Dept    |Salary|Rank|\n",
    "+----+-------+---------+------+----+\n",
    "| 3  | Bob   | IT      | 7000 |  1 |\n",
    "| 1  | John  | IT      | 5000 |  2 |\n",
    "| 2  | Alice | HR      | 6000 |  1 |\n",
    "| 4  | David | HR      | 5500 |  2 |\n",
    "+----+-------+---------+------+----+\n",
    "\n",
    "```"
   ]
  },
  {
   "cell_type": "code",
   "execution_count": 0,
   "metadata": {
    "application/vnd.databricks.v1+cell": {
     "cellMetadata": {
      "byteLimit": 2048000,
      "rowLimit": 10000
     },
     "inputWidgets": {},
     "nuid": "4ee59df4-7f89-4aff-a5ba-6beae15a7496",
     "showTitle": false,
     "title": ""
    }
   },
   "outputs": [
    {
     "output_type": "display_data",
     "data": {
      "text/html": [
       "<style scoped>\n",
       "  .table-result-container {\n",
       "    max-height: 300px;\n",
       "    overflow: auto;\n",
       "  }\n",
       "  table, th, td {\n",
       "    border: 1px solid black;\n",
       "    border-collapse: collapse;\n",
       "  }\n",
       "  th, td {\n",
       "    padding: 5px;\n",
       "  }\n",
       "  th {\n",
       "    text-align: left;\n",
       "  }\n",
       "</style><div class='table-result-container'><table class='table-result'><thead style='background-color: white'><tr><th>Dept</th><th>ID</th><th>Name</th><th>Salary</th><th>Rank</th></tr></thead><tbody><tr><td>HR</td><td>2</td><td>Alice</td><td>6000</td><td>1</td></tr><tr><td>HR</td><td>4</td><td>David</td><td>5500</td><td>2</td></tr><tr><td>IT</td><td>3</td><td>Bob</td><td>7000</td><td>1</td></tr><tr><td>IT</td><td>1</td><td>John</td><td>5000</td><td>2</td></tr></tbody></table></div>"
      ]
     },
     "metadata": {
      "application/vnd.databricks.v1+output": {
       "addedWidgets": {},
       "aggData": [],
       "aggError": "",
       "aggOverflow": false,
       "aggSchema": [],
       "aggSeriesLimitReached": false,
       "aggType": "",
       "arguments": {},
       "columnCustomDisplayInfos": {},
       "data": [
        [
         "HR",
         2,
         "Alice",
         6000,
         1
        ],
        [
         "HR",
         4,
         "David",
         5500,
         2
        ],
        [
         "IT",
         3,
         "Bob",
         7000,
         1
        ],
        [
         "IT",
         1,
         "John",
         5000,
         2
        ]
       ],
       "datasetInfos": [],
       "dbfsResultPath": null,
       "isJsonSchema": true,
       "metadata": {},
       "overflow": false,
       "plotOptions": {
        "customPlotOptions": {},
        "displayType": "table",
        "pivotAggregation": null,
        "pivotColumns": null,
        "xColumns": null,
        "yColumns": null
       },
       "removedWidgets": [],
       "schema": [
        {
         "metadata": "{}",
         "name": "Dept",
         "type": "\"string\""
        },
        {
         "metadata": "{}",
         "name": "ID",
         "type": "\"long\""
        },
        {
         "metadata": "{}",
         "name": "Name",
         "type": "\"string\""
        },
        {
         "metadata": "{}",
         "name": "Salary",
         "type": "\"long\""
        },
        {
         "metadata": "{}",
         "name": "Rank",
         "type": "\"integer\""
        }
       ],
       "type": "table"
      }
     },
     "output_type": "display_data"
    }
   ],
   "source": [
    "from pyspark.sql.functions import row_number,col,desc\n",
    "from pyspark.sql.window import Window\n",
    "data = [\n",
    "    {'ID': 1, 'Name': 'John', 'Dept': 'IT', 'Salary': 5000},\n",
    "    {'ID': 2, 'Name': 'Alice', 'Dept': 'HR', 'Salary': 6000},\n",
    "    {'ID': 3, 'Name': 'Bob', 'Dept': 'IT', 'Salary': 7000},\n",
    "    {'ID': 4, 'Name': 'David', 'Dept': 'HR', 'Salary': 5500}\n",
    "]\n",
    "\n",
    "df = spark.createDataFrame(data)\n",
    "\n",
    "df = df.withColumn('Rank',row_number().over(Window.partitionBy('Dept').orderBy(desc('Salary'))))\n",
    "\n",
    "display(df)\n"
   ]
  },
  {
   "cell_type": "markdown",
   "metadata": {
    "application/vnd.databricks.v1+cell": {
     "cellMetadata": {
      "byteLimit": 2048000,
      "rowLimit": 10000
     },
     "inputWidgets": {},
     "nuid": "858dc31f-967f-4f34-a824-8e1a530fc523",
     "showTitle": false,
     "title": ""
    }
   },
   "source": [
    "####Question 8 (String Manipulation)\n",
    "##### Given a DataFrame of employee details, create a new column 'Initials' that contains the initials of each employee's name.\n",
    "\n",
    "**Input data** \n",
    "```\n",
    "+----+-------+\n",
    "| ID | Name  |\n",
    "+----+-------+\n",
    "| 1  | John  |\n",
    "| 2  | Alice |\n",
    "| 3  | Bob   |\n",
    "| 4  | David |\n",
    "+----+-------+\n",
    "\n",
    "\n",
    "```\n",
    "**Output data**\n",
    "\n",
    "```\n",
    "+----+-------+--------+\n",
    "| ID | Name  |Initials|\n",
    "+----+-------+--------+\n",
    "| 1  | John  | J      |\n",
    "| 2  | Alice | A      |\n",
    "| 3  | Bob   | B      |\n",
    "| 4  | David | D      |\n",
    "+----+-------+--------+\n",
    "\n",
    "\n",
    "```"
   ]
  },
  {
   "cell_type": "code",
   "execution_count": 0,
   "metadata": {
    "application/vnd.databricks.v1+cell": {
     "cellMetadata": {
      "byteLimit": 2048000,
      "rowLimit": 10000
     },
     "inputWidgets": {},
     "nuid": "dbe72147-7ddf-4229-a9f6-08d342ccf3b8",
     "showTitle": false,
     "title": ""
    }
   },
   "outputs": [
    {
     "output_type": "display_data",
     "data": {
      "text/html": [
       "<style scoped>\n",
       "  .table-result-container {\n",
       "    max-height: 300px;\n",
       "    overflow: auto;\n",
       "  }\n",
       "  table, th, td {\n",
       "    border: 1px solid black;\n",
       "    border-collapse: collapse;\n",
       "  }\n",
       "  th, td {\n",
       "    padding: 5px;\n",
       "  }\n",
       "  th {\n",
       "    text-align: left;\n",
       "  }\n",
       "</style><div class='table-result-container'><table class='table-result'><thead style='background-color: white'><tr><th>ID</th><th>Name</th><th>Initials</th></tr></thead><tbody><tr><td>1</td><td>John</td><td>J</td></tr><tr><td>2</td><td>Alice</td><td>A</td></tr><tr><td>3</td><td>Bob</td><td>B</td></tr><tr><td>4</td><td>David</td><td>D</td></tr></tbody></table></div>"
      ]
     },
     "metadata": {
      "application/vnd.databricks.v1+output": {
       "addedWidgets": {},
       "aggData": [],
       "aggError": "",
       "aggOverflow": false,
       "aggSchema": [],
       "aggSeriesLimitReached": false,
       "aggType": "",
       "arguments": {},
       "columnCustomDisplayInfos": {},
       "data": [
        [
         1,
         "John",
         "J"
        ],
        [
         2,
         "Alice",
         "A"
        ],
        [
         3,
         "Bob",
         "B"
        ],
        [
         4,
         "David",
         "D"
        ]
       ],
       "datasetInfos": [],
       "dbfsResultPath": null,
       "isJsonSchema": true,
       "metadata": {},
       "overflow": false,
       "plotOptions": {
        "customPlotOptions": {},
        "displayType": "table",
        "pivotAggregation": null,
        "pivotColumns": null,
        "xColumns": null,
        "yColumns": null
       },
       "removedWidgets": [],
       "schema": [
        {
         "metadata": "{}",
         "name": "ID",
         "type": "\"long\""
        },
        {
         "metadata": "{}",
         "name": "Name",
         "type": "\"string\""
        },
        {
         "metadata": "{}",
         "name": "Initials",
         "type": "\"string\""
        }
       ],
       "type": "table"
      }
     },
     "output_type": "display_data"
    }
   ],
   "source": [
    "data = [\n",
    "    {'ID': 1, 'Name': 'John'},\n",
    "    {'ID': 2, 'Name': 'Alice'},\n",
    "    {'ID': 3, 'Name': 'Bob'},\n",
    "    {'ID': 4, 'Name': 'David'}\n",
    "]\n",
    "\n",
    "df = spark.createDataFrame(data)\n",
    "\n",
    "df = df.withColumn(\"Initials\",col('Name').substr(0,1))\n",
    "\n",
    "display(df)\n"
   ]
  }
 ],
 "metadata": {
  "application/vnd.databricks.v1+notebook": {
   "dashboards": [],
   "environmentMetadata": null,
   "language": "python",
   "notebookMetadata": {
    "pythonIndentUnit": 4
   },
   "notebookName": "Spark_Interview_Questions-Part-1",
   "widgets": {}
  }
 },
 "nbformat": 4,
 "nbformat_minor": 0
}
